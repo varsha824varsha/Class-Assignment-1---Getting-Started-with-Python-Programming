{
  "nbformat": 4,
  "nbformat_minor": 0,
  "metadata": {
    "colab": {
      "name": "filehandling.ipynb",
      "provenance": [],
      "authorship_tag": "ABX9TyPes1yhrMlzqwZSlm55JBYp",
      "include_colab_link": true
    },
    "kernelspec": {
      "name": "python3",
      "display_name": "Python 3"
    }
  },
  "cells": [
    {
      "cell_type": "markdown",
      "metadata": {
        "id": "view-in-github",
        "colab_type": "text"
      },
      "source": [
        "<a href=\"https://colab.research.google.com/github/varsha824varsha/Class-Assignment-1---Getting-Started-with-Python-Programming/blob/master/filehandling.ipynb\" target=\"_parent\"><img src=\"https://colab.research.google.com/assets/colab-badge.svg\" alt=\"Open In Colab\"/></a>"
      ]
    },
    {
      "cell_type": "code",
      "metadata": {
        "id": "LYTx1UZzrK0I",
        "outputId": "c440438c-3183-425b-a53b-fe443a508028",
        "colab": {
          "base_uri": "https://localhost:8080/"
        }
      },
      "source": [
        "a = [10,20,30,20,10,50,60,40,80,50,40]\n",
        "\n",
        "dup_items = set()\n",
        "uniq_items = []\n",
        "for x in a:\n",
        "    if x not in dup_items:\n",
        "        uniq_items.append(x)\n",
        "        dup_items.add(x)\n",
        "\n",
        "print(dup_items)\n"
      ],
      "execution_count": null,
      "outputs": [
        {
          "output_type": "stream",
          "text": [
            "{40, 10, 80, 50, 20, 60, 30}\n"
          ],
          "name": "stdout"
        }
      ]
    },
    {
      "cell_type": "code",
      "metadata": {
        "id": "KmjwY9XtkHm4"
      },
      "source": [
        ""
      ],
      "execution_count": null,
      "outputs": []
    },
    {
      "cell_type": "code",
      "metadata": {
        "id": "_gAOacjijaN0"
      },
      "source": [
        ">> file1 = open(\"C:\\\\Users\\\\varsha\\\\Documents\\\\file1.txt\",\"w\")\n",
        ">>> file1.write(\"line1 \\n\\n line2\")\n",
        "14\n",
        ">>> file1.close()\n",
        ">>> file1 = open(\"C:\\\\Users\\\\varsha\\\\Documents\\\\file1.txt\",\"r\")\n",
        ">>> str = file1.read()\n",
        ">>> str1 = str.replace(\"\\n\\n\",\"\")\n",
        ">>> print(str)\n",
        "line1\n",
        "line2\n",
        ">>> print(str1)\n",
        "line1 line2\n",
        ">>> file1.close()\n",
        ">>> file1 = open(\"C:\\\\Users\\\\varsha\\\\Documents\\\\file1.txt\",\"w\")\n",
        ">>> file1.write(str1)\n",
        "12\n",
        ">>> file1.close()\n",
        ">>> def copyFile(oldFile, newFile):\n",
        "... f1 = open(oldFile, \"r\")\n",
        "... f2 = open(newFile, \"w\")\n",
        "... while True:\n",
        "... text = f1.read(50)\n",
        "... if text == \"\":\n",
        "... break\n",
        "... f2.write(text)\n",
        "... f1.close()\n",
        "... f2.close()\n",
        "... return\n",
        "...\n",
        ">>>\n",
        "copyFile(\"C:\\\\Users\\\\varsha\\\\Documents\\\\file1.txt\",\"C:\\\\Users\\\\varsha\\\\Documents\\\\file2.txt\n",
        "\")\n",
        ">>> file2 = open(\"C:\\\\Users\\\\varsha\\\\Documents\\\\file2.txt\",\"r\")\n",
        ">>> print(file2.read())\n",
        "line1 line2"
      ],
      "execution_count": null,
      "outputs": []
    },
    {
      "cell_type": "code",
      "metadata": {
        "id": "qh5E1VFgDiF_"
      },
      "source": [
        "def delblankline(oldfile, newfile):\n",
        "  t1=open(oldfile, \"r\")\n",
        "  t2=open(newfile, \"w\")\n",
        "  while True:\n",
        "    text = t1.readline()\n",
        "    if text == \"\":\n",
        "      break\n",
        "      if text == '\\0':\n",
        "        continue\n",
        "        t2.write(text)\n",
        "        t1.close()\n",
        "        t2.close()\n",
        "        return "
      ],
      "execution_count": null,
      "outputs": []
    },
    {
      "cell_type": "code",
      "metadata": {
        "id": "KBADdwL4Df-M"
      },
      "source": [
        ""
      ],
      "execution_count": null,
      "outputs": []
    }
  ]
}