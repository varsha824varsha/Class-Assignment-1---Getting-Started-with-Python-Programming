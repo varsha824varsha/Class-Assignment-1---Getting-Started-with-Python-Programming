{
  "nbformat": 4,
  "nbformat_minor": 0,
  "metadata": {
    "colab": {
      "name": "qn1.ipynb",
      "provenance": [],
      "authorship_tag": "ABX9TyM5JWyV3JZ1eWZ7AV5krF5D",
      "include_colab_link": true
    },
    "kernelspec": {
      "name": "python3",
      "display_name": "Python 3"
    }
  },
  "cells": [
    {
      "cell_type": "markdown",
      "metadata": {
        "id": "view-in-github",
        "colab_type": "text"
      },
      "source": [
        "<a href=\"https://colab.research.google.com/github/varsha824varsha/Class-Assignment-1---Getting-Started-with-Python-Programming/blob/master/qn1.ipynb\" target=\"_parent\"><img src=\"https://colab.research.google.com/assets/colab-badge.svg\" alt=\"Open In Colab\"/></a>"
      ]
    },
    {
      "cell_type": "code",
      "metadata": {
        "colab": {
          "base_uri": "https://localhost:8080/",
          "height": 229
        },
        "id": "2-WlWEK0CQvU",
        "outputId": "113b7731-fb61-4fe0-8518-926b7fa7c66c"
      },
      "source": [
        "class Member:\n",
        "    def _init_(self, name, age, phonenumber, address, salary):\n",
        "        self.name = name\n",
        "        self.age = age\n",
        "        self.phonenumber=phonenumber\n",
        "        self.address=address\n",
        "        self.salary=salary\n",
        "    \n",
        "    def printSalary(self):\n",
        "        print(\"Salary : \",self.salary)\n",
        "\n",
        "\n",
        "\n",
        "class Employee(Member):  # Inheritance\n",
        "    def _init_(self, specialization):\n",
        "        super()._init_(\"varsha\", 30, 9253748274,\"XYZ\",33000)\n",
        "        self.specialization = specialization\n",
        "\n",
        "    def report(self):\n",
        "        print(\"Spetialization : \",self.specialization)\n",
        "        print(\"Name:\", self.name)\n",
        "        print(\"age:\", self.age)\n",
        "        print(\"phone number:\", self.phonenumber)\n",
        "        print(\"Address:\", self.address)\n",
        "        print(\"Salary:\", self.salary)\n",
        "\n",
        "\n",
        "class Manager(Member):  # Inheritance\n",
        "    def _init_(self, department):\n",
        "        super()._init_(\"varsha\", 40,9253748274,\"WTH\",46000)\n",
        "        self.department = department\n",
        "\n",
        "    def report(self):\n",
        "        print(\"Department : \", self.department)\n",
        "        print(\"Name:\", self.name)\n",
        "        print(\"age:\", self.age)\n",
        "        print(\"phone number:\", self.phonenumber)\n",
        "        print(\"Address:\", self.address)\n",
        "        print(\"Salary : \",self.salary)\n",
        "\n",
        "\n",
        "a = Employee(\"Programmer\")\n",
        "print(a.report())\n",
        "b = Manager(\"Human Resources\")\n",
        "print(b.report())"
      ],
      "execution_count": 1,
      "outputs": [
        {
          "output_type": "error",
          "ename": "TypeError",
          "evalue": "ignored",
          "traceback": [
            "\u001b[0;31m---------------------------------------------------------------------------\u001b[0m",
            "\u001b[0;31mTypeError\u001b[0m                                 Traceback (most recent call last)",
            "\u001b[0;32m<ipython-input-1-16009e6cd35a>\u001b[0m in \u001b[0;36m<module>\u001b[0;34m()\u001b[0m\n\u001b[1;32m     40\u001b[0m \u001b[0;34m\u001b[0m\u001b[0m\n\u001b[1;32m     41\u001b[0m \u001b[0;34m\u001b[0m\u001b[0m\n\u001b[0;32m---> 42\u001b[0;31m \u001b[0ma\u001b[0m \u001b[0;34m=\u001b[0m \u001b[0mEmployee\u001b[0m\u001b[0;34m(\u001b[0m\u001b[0;34m\"Programmer\"\u001b[0m\u001b[0;34m)\u001b[0m\u001b[0;34m\u001b[0m\u001b[0;34m\u001b[0m\u001b[0m\n\u001b[0m\u001b[1;32m     43\u001b[0m \u001b[0mprint\u001b[0m\u001b[0;34m(\u001b[0m\u001b[0ma\u001b[0m\u001b[0;34m.\u001b[0m\u001b[0mreport\u001b[0m\u001b[0;34m(\u001b[0m\u001b[0;34m)\u001b[0m\u001b[0;34m)\u001b[0m\u001b[0;34m\u001b[0m\u001b[0;34m\u001b[0m\u001b[0m\n\u001b[1;32m     44\u001b[0m \u001b[0mb\u001b[0m \u001b[0;34m=\u001b[0m \u001b[0mManager\u001b[0m\u001b[0;34m(\u001b[0m\u001b[0;34m\"Human Resources\"\u001b[0m\u001b[0;34m)\u001b[0m\u001b[0;34m\u001b[0m\u001b[0;34m\u001b[0m\u001b[0m\n",
            "\u001b[0;31mTypeError\u001b[0m: object() takes no parameters"
          ]
        }
      ]
    }
  ]
}