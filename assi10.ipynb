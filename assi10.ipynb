{
  "nbformat": 4,
  "nbformat_minor": 0,
  "metadata": {
    "colab": {
      "name": "assi10.ipynb",
      "provenance": [],
      "authorship_tag": "ABX9TyOqoeMrG8ezY/rt6aILajMd",
      "include_colab_link": true
    },
    "kernelspec": {
      "name": "python3",
      "display_name": "Python 3"
    }
  },
  "cells": [
    {
      "cell_type": "markdown",
      "metadata": {
        "id": "view-in-github",
        "colab_type": "text"
      },
      "source": [
        "<a href=\"https://colab.research.google.com/github/varsha824varsha/Class-Assignment-1---Getting-Started-with-Python-Programming/blob/master/assi10.ipynb\" target=\"_parent\"><img src=\"https://colab.research.google.com/assets/colab-badge.svg\" alt=\"Open In Colab\"/></a>"
      ]
    },
    {
      "cell_type": "code",
      "metadata": {
        "colab": {
          "base_uri": "https://localhost:8080/"
        },
        "id": "JVMErT4Skib3",
        "outputId": "b815774d-fee3-46fb-fef8-1b8a1cc4499f"
      },
      "source": [
        "num = int(input(\"Enter a number: \"))\r\n",
        "sum = 0\r\n",
        "temp = num\r\n",
        "while temp > 0:\r\n",
        "   digit = temp % 10\r\n",
        "   sum += digit ** 3\r\n",
        "   temp //= 10\r\n",
        "if num == sum:\r\n",
        "   print(num,\"is an Armstrong number\")\r\n",
        "else:\r\n",
        "   print(num,\"is not an Armstrong number\")"
      ],
      "execution_count": 2,
      "outputs": [
        {
          "output_type": "stream",
          "text": [
            "Enter a number: 3\n",
            "3 is not an Armstrong number\n"
          ],
          "name": "stdout"
        }
      ]
    }
  ]
}