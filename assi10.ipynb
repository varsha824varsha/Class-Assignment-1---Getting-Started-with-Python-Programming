{
  "nbformat": 4,
  "nbformat_minor": 0,
  "metadata": {
    "colab": {
      "name": "assi10.ipynb",
      "provenance": [],
      "authorship_tag": "ABX9TyNaPmq6+qN4RLyXh5uPfFZ1",
      "include_colab_link": true
    },
    "kernelspec": {
      "name": "python3",
      "display_name": "Python 3"
    }
  },
  "cells": [
    {
      "cell_type": "markdown",
      "metadata": {
        "id": "view-in-github",
        "colab_type": "text"
      },
      "source": [
        "<a href=\"https://colab.research.google.com/github/varsha824varsha/Class-Assignment-1---Getting-Started-with-Python-Programming/blob/master/assi10.ipynb\" target=\"_parent\"><img src=\"https://colab.research.google.com/assets/colab-badge.svg\" alt=\"Open In Colab\"/></a>"
      ]
    },
    {
      "cell_type": "code",
      "metadata": {
        "colab": {
          "base_uri": "https://localhost:8080/"
        },
        "id": "JVMErT4Skib3",
        "outputId": "b815774d-fee3-46fb-fef8-1b8a1cc4499f"
      },
      "source": [
        "num = int(input(\"Enter a number: \"))\r\n",
        "sum = 0\r\n",
        "temp = num\r\n",
        "while temp > 0:\r\n",
        "   digit = temp % 10\r\n",
        "   sum += digit ** 3\r\n",
        "   temp //= 10\r\n",
        "if num == sum:\r\n",
        "   print(num,\"is an Armstrong number\")\r\n",
        "else:\r\n",
        "   print(num,\"is not an Armstrong number\")"
      ],
      "execution_count": 2,
      "outputs": [
        {
          "output_type": "stream",
          "text": [
            "Enter a number: 3\n",
            "3 is not an Armstrong number\n"
          ],
          "name": "stdout"
        }
      ]
    },
    {
      "cell_type": "code",
      "metadata": {
        "colab": {
          "base_uri": "https://localhost:8080/"
        },
        "id": "fNRmWCGjk5nQ",
        "outputId": "291914c2-96d7-41ea-c9bd-4760607ac593"
      },
      "source": [
        "x=int(input(\"Enter first side \"))\r\n",
        "y=int(input(\"Enter second side \"))\r\n",
        "z=int(input(\"Enter third side \"))\r\n",
        "if x**2+y**2==z**2:\r\n",
        "    print('Yes')\r\n",
        "else:\r\n",
        "    print('No')"
      ],
      "execution_count": 3,
      "outputs": [
        {
          "output_type": "stream",
          "text": [
            "Enter first side 2\n",
            "Enter second side 3\n",
            "Enter third side 4\n",
            "No\n"
          ],
          "name": "stdout"
        }
      ]
    },
    {
      "cell_type": "code",
      "metadata": {
        "colab": {
          "base_uri": "https://localhost:8080/"
        },
        "id": "cVrpHDrLlvXo",
        "outputId": "af11415a-9ff2-465a-b07b-16d969934fb0"
      },
      "source": [
        "r=int(input(\"Enter upper limit: \"))\r\n",
        "for a in range(2,r+1):\r\n",
        "    k=0\r\n",
        "    for i in range(2,a//2+1):\r\n",
        "        if(a%i==0):\r\n",
        "            k=k+1\r\n",
        "    if(k<=0):\r\n",
        "        print(a)"
      ],
      "execution_count": 4,
      "outputs": [
        {
          "output_type": "stream",
          "text": [
            "Enter upper limit: 4\n",
            "2\n",
            "3\n"
          ],
          "name": "stdout"
        }
      ]
    }
  ]
}