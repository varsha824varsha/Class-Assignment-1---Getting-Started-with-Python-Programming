{
  "nbformat": 4,
  "nbformat_minor": 0,
  "metadata": {
    "colab": {
      "name": "Untitled0.ipynb",
      "provenance": [],
      "collapsed_sections": [],
      "authorship_tag": "ABX9TyN7MFOjInTWHcBM1L0YdQmh",
      "include_colab_link": true
    },
    "kernelspec": {
      "name": "python3",
      "display_name": "Python 3"
    }
  },
  "cells": [
    {
      "cell_type": "markdown",
      "metadata": {
        "id": "view-in-github",
        "colab_type": "text"
      },
      "source": [
        "<a href=\"https://colab.research.google.com/github/varsha824varsha/Class-Assignment-1---Getting-Started-with-Python-Programming/blob/master/Untitled0.ipynb\" target=\"_parent\"><img src=\"https://colab.research.google.com/assets/colab-badge.svg\" alt=\"Open In Colab\"/></a>"
      ]
    },
    {
      "cell_type": "code",
      "metadata": {
        "id": "7kHwINd8SPmn",
        "colab_type": "code",
        "colab": {
          "base_uri": "https://localhost:8080/",
          "height": 67
        },
        "outputId": "51c6b714-be5c-420b-f03f-ea673aab6686"
      },
      "source": [
        "a=str(input(\"Enter your name:\"))\n",
        "b=str(input(\"Enter your address:\"))\n",
        "c=str(input(\"Enter your telephone number:\"))"
      ],
      "execution_count": 3,
      "outputs": [
        {
          "output_type": "stream",
          "text": [
            "Enter your name:varsha\n",
            "Enter your address:varsha\n",
            "Enter your telephone number:987756225\n"
          ],
          "name": "stdout"
        }
      ]
    },
    {
      "cell_type": "code",
      "metadata": {
        "id": "e_3euyB9vENe",
        "colab_type": "code",
        "colab": {
          "base_uri": "https://localhost:8080/",
          "height": 67
        },
        "outputId": "a07a9398-0bee-49c3-f973-55a6e3739ccd"
      },
      "source": [
        " width = int(input(\"Enter the width \"))\n",
        "height = int(input(\"Enter the height \"))\n",
        "area = width * height\n",
        "print(\"The area is\" , area, \"square units\")"
      ],
      "execution_count": 10,
      "outputs": [
        {
          "output_type": "stream",
          "text": [
            "Enter the width 78\n",
            "Enter the height 56\n",
            "The area is 4368 square units\n"
          ],
          "name": "stdout"
        }
      ]
    },
    {
      "cell_type": "code",
      "metadata": {
        "id": "NS6EixcMxrR9",
        "colab_type": "code",
        "colab": {
          "base_uri": "https://localhost:8080/",
          "height": 67
        },
        "outputId": "d011f985-a5aa-4c5e-ea87-e2eba6aaac33"
      },
      "source": [
        "baselength = int(input(\"Enter the base length of the triangle \"))\n",
        "height = int(input(\"Enter the height of the triangle \"))\n",
        "area = ((baselength*height)/2)\n",
        "print(\"The area of the triangle is\" , area, \"square units\")"
      ],
      "execution_count": 16,
      "outputs": [
        {
          "output_type": "stream",
          "text": [
            "Enter the base length of the triangle 10\n",
            "Enter the height of the triangle 11\n",
            "The area of the triangle is 55.0 square units\n"
          ],
          "name": "stdout"
        }
      ]
    },
    {
      "cell_type": "code",
      "metadata": {
        "id": "fHCWcEG_zc96",
        "colab_type": "code",
        "colab": {
          "base_uri": "https://localhost:8080/",
          "height": 50
        },
        "outputId": "f96d814d-9652-432d-e08d-ddde46c0a27e"
      },
      "source": [
        "radius= (float(input(\"Enter the radius of the circle \")))\n",
        "area = 3.14 * radius ** 2\n",
        "print(\"The area of the circle is \", area ,\"square units\")"
      ],
      "execution_count": 17,
      "outputs": [
        {
          "output_type": "stream",
          "text": [
            "Enter the radius of the circle 9\n",
            "The area of the circle is  254.34 square units\n"
          ],
          "name": "stdout"
        }
      ]
    },
    {
      "cell_type": "code",
      "metadata": {
        "id": "w0k2oA7M0WJk",
        "colab_type": "code",
        "colab": {
          "base_uri": "https://localhost:8080/",
          "height": 67
        },
        "outputId": "f1ca7f8a-8fe7-4f2e-def7-d90558d6e2e7"
      },
      "source": [
        "str(input(\"Enter your name \"))\n",
        "a=int(input(\"Enter your age \"))\n",
        "print(\"your name is\", name ,\"and your age is \", str(a) )"
      ],
      "execution_count": 20,
      "outputs": [
        {
          "output_type": "stream",
          "text": [
            "Enter your name varsha\n",
            "Enter your age 19\n",
            "your name is varsha and your age is  19\n"
          ],
          "name": "stdout"
        }
      ]
    },
    {
      "cell_type": "code",
      "metadata": {
        "id": "WQ-Ean3H1igk",
        "colab_type": "code",
        "colab": {
          "base_uri": "https://localhost:8080/",
          "height": 50
        },
        "outputId": "4d8c635f-a492-472a-828a-5e884d42cbe1"
      },
      "source": [
        "x=int(input(\"Enter a number\"))\n",
        "a= x+1\n",
        "print(\"the result is\", a)"
      ],
      "execution_count": 22,
      "outputs": [
        {
          "output_type": "stream",
          "text": [
            "Enter a number99\n",
            "the result is 100\n"
          ],
          "name": "stdout"
        }
      ]
    },
    {
      "cell_type": "code",
      "metadata": {
        "id": "D73j-4wE2QiQ",
        "colab_type": "code",
        "colab": {
          "base_uri": "https://localhost:8080/",
          "height": 34
        },
        "outputId": "88ea86f3-ecc2-4a6a-9788-2cc806e200ad"
      },
      "source": [
        "a= str(input(\"Enter your first name \"))\n"
      ],
      "execution_count": 23,
      "outputs": [
        {
          "output_type": "stream",
          "text": [
            "Enter your first name varsha\n"
          ],
          "name": "stdout"
        }
      ]
    }
  ]
}