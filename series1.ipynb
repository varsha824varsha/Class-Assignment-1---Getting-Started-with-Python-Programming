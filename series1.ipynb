{
  "nbformat": 4,
  "nbformat_minor": 0,
  "metadata": {
    "colab": {
      "name": "series1.ipynb",
      "provenance": [],
      "authorship_tag": "ABX9TyM2onGwTYD0pr9kSr7jHTme",
      "include_colab_link": true
    },
    "kernelspec": {
      "name": "python3",
      "display_name": "Python 3"
    }
  },
  "cells": [
    {
      "cell_type": "markdown",
      "metadata": {
        "id": "view-in-github",
        "colab_type": "text"
      },
      "source": [
        "<a href=\"https://colab.research.google.com/github/varsha824varsha/Class-Assignment-1---Getting-Started-with-Python-Programming/blob/master/series1.ipynb\" target=\"_parent\"><img src=\"https://colab.research.google.com/assets/colab-badge.svg\" alt=\"Open In Colab\"/></a>"
      ]
    },
    {
      "cell_type": "code",
      "metadata": {
        "id": "bR-l-zO8yKOt",
        "outputId": "d1fb1cee-b99e-4025-f912-deae2eb8055d",
        "colab": {
          "base_uri": "https://localhost:8080/",
          "height": 51
        }
      },
      "source": [
        "from math import pi\n",
        "r = float(input(\"input the radius of circle:\"))\n",
        "print(\"the area of circle is\" + str(r) + \"is:\"+ str(pi*r**2))"
      ],
      "execution_count": 2,
      "outputs": [
        {
          "output_type": "stream",
          "text": [
            "input the radius of circle: 2\n",
            "the area of circle is2.0is:12.566370614359172\n"
          ],
          "name": "stdout"
        }
      ]
    }
  ]
}