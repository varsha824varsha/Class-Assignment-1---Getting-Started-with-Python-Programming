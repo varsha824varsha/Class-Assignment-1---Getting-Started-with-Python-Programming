{
  "nbformat": 4,
  "nbformat_minor": 0,
  "metadata": {
    "colab": {
      "name": "series1.ipynb",
      "provenance": [],
      "authorship_tag": "ABX9TyPeCZTyCE/Pdaqz9UPffr8w",
      "include_colab_link": true
    },
    "kernelspec": {
      "name": "python3",
      "display_name": "Python 3"
    }
  },
  "cells": [
    {
      "cell_type": "markdown",
      "metadata": {
        "id": "view-in-github",
        "colab_type": "text"
      },
      "source": [
        "<a href=\"https://colab.research.google.com/github/varsha824varsha/Class-Assignment-1---Getting-Started-with-Python-Programming/blob/master/series1.ipynb\" target=\"_parent\"><img src=\"https://colab.research.google.com/assets/colab-badge.svg\" alt=\"Open In Colab\"/></a>"
      ]
    },
    {
      "cell_type": "code",
      "metadata": {
        "id": "bR-l-zO8yKOt",
        "outputId": "d1fb1cee-b99e-4025-f912-deae2eb8055d",
        "colab": {
          "base_uri": "https://localhost:8080/",
          "height": 51
        }
      },
      "source": [
        "from math import pi\n",
        "r = float(input(\"input the radius of circle:\"))\n",
        "print(\"the area of circle is\" + str(r) + \"is:\"+ str(pi*r**2))"
      ],
      "execution_count": 2,
      "outputs": [
        {
          "output_type": "stream",
          "text": [
            "input the radius of circle: 2\n",
            "the area of circle is2.0is:12.566370614359172\n"
          ],
          "name": "stdout"
        }
      ]
    },
    {
      "cell_type": "code",
      "metadata": {
        "id": "ws1rQ-a7uirU",
        "outputId": "6756a1ae-9373-439e-c7cd-bbe2a5c225e2",
        "colab": {
          "base_uri": "https://localhost:8080/",
          "height": 128
        }
      },
      "source": [
        "def common_data(list1,list2):\n",
        "  result = False\n",
        "  for x in list1:\n",
        "    for y in list2:\n",
        "      if(x==y):\n",
        "      result = True\n",
        "      return result\n",
        "      list1 = input(\"enter first list(space seperated):\")\n",
        "      list1 = list(list1.split())\n",
        "      list2 = input(\"enter second list(space seperated):\")\n",
        "      list2 = list(list2.split())\n",
        "      r = common_data(list1,list2)\n",
        "      if r:\n",
        "        print(\"list1,\"and\" list2,has common members:\",n)\n",
        "        else:\n",
        "          print(\"list1,\"and\"list2,has atleast common:\",r)\n",
        "\n",
        "\n"
      ],
      "execution_count": 5,
      "outputs": [
        {
          "output_type": "error",
          "ename": "IndentationError",
          "evalue": "ignored",
          "traceback": [
            "\u001b[0;36m  File \u001b[0;32m\"<ipython-input-5-7f601b8eef75>\"\u001b[0;36m, line \u001b[0;32m6\u001b[0m\n\u001b[0;31m    result = True\u001b[0m\n\u001b[0m         ^\u001b[0m\n\u001b[0;31mIndentationError\u001b[0m\u001b[0;31m:\u001b[0m expected an indented block\n"
          ]
        }
      ]
    },
    {
      "cell_type": "code",
      "metadata": {
        "id": "DeWviMaSvFDZ",
        "outputId": "45d1ec92-c457-47b4-cf36-6897e19033de",
        "colab": {
          "base_uri": "https://localhost:8080/",
          "height": 128
        }
      },
      "source": [
        "num = int(input(\"enter a number:\"))\n",
        "if num>1 :\n",
        "  for i in range (2,num):\n",
        "    if(num%i)==0:\n",
        "      print(num,\"is not a prime number\")\n",
        "      print(i,\"times\",num//i,\"is\",num)\n",
        "      break\n",
        "      else :\n",
        "        print(num,\"is a prime number\")\n",
        "      else :\n",
        "          print(num,\"is not prime\")\n"
      ],
      "execution_count": 20,
      "outputs": [
        {
          "output_type": "error",
          "ename": "SyntaxError",
          "evalue": "ignored",
          "traceback": [
            "\u001b[0;36m  File \u001b[0;32m\"<ipython-input-20-fbb5f08eb6e7>\"\u001b[0;36m, line \u001b[0;32m8\u001b[0m\n\u001b[0;31m    else :\u001b[0m\n\u001b[0m       ^\u001b[0m\n\u001b[0;31mSyntaxError\u001b[0m\u001b[0;31m:\u001b[0m invalid syntax\n"
          ]
        }
      ]
    },
    {
      "cell_type": "code",
      "metadata": {
        "id": "4AJi9PZDw73f",
        "outputId": "9ae3552a-6a0d-4c42-ccd4-bd8d512d00be",
        "colab": {
          "base_uri": "https://localhost:8080/",
          "height": 67
        }
      },
      "source": [
        "mlist = [1,2,3,4,5,8,12,32]\n",
        "print('list has the items:',mlist)\n",
        "searchitem = int(input('enter a number to search:'))\n",
        "found = False\n",
        "for i in range (len(mlist)):\n",
        "  if mlist[i]== searchitem:\n",
        "    found = True\n",
        "    print(searchitem,'was found in list at',i)\n",
        "    break\n",
        "    if found == False :\n",
        "      print(searchitem,'was not found ')"
      ],
      "execution_count": 15,
      "outputs": [
        {
          "output_type": "stream",
          "text": [
            "list has the items: [1, 2, 3, 4, 5, 8, 12, 32]\n",
            "enter a number to search:3\n",
            "3 was found in list at 2\n"
          ],
          "name": "stdout"
        }
      ]
    },
    {
      "cell_type": "code",
      "metadata": {
        "id": "ApLMSaMpzUlB",
        "outputId": "cbbfbca5-a4dc-4784-c276-f2db963f8fb7",
        "colab": {
          "base_uri": "https://localhost:8080/",
          "height": 128
        }
      },
      "source": [
        "defreverse(str):\n",
        "  if(len(str)==0):\n",
        "    return str\n",
        "    else :\n",
        "      return reverse(str[1]+str[0])\n",
        "      string = input(\"please enter ur string\")\n",
        "      str = reverse(string)\n",
        "      print(\"string in reverse order:\" str)\n",
        "      if(string==str):\n",
        "        print(\"this is a palimdrome\")\n",
        "        else:\n",
        "          print(\"not a palindrome\")\n",
        "          "
      ],
      "execution_count": 16,
      "outputs": [
        {
          "output_type": "error",
          "ename": "SyntaxError",
          "evalue": "ignored",
          "traceback": [
            "\u001b[0;36m  File \u001b[0;32m\"<ipython-input-16-32babfb1175c>\"\u001b[0;36m, line \u001b[0;32m1\u001b[0m\n\u001b[0;31m    defreverse(str):\u001b[0m\n\u001b[0m                    ^\u001b[0m\n\u001b[0;31mSyntaxError\u001b[0m\u001b[0;31m:\u001b[0m invalid syntax\n"
          ]
        }
      ]
    },
    {
      "cell_type": "code",
      "metadata": {
        "id": "YrCdSKBT3QYh",
        "outputId": "1fc57d74-0285-47d2-df95-5a4995a76724",
        "colab": {
          "base_uri": "https://localhost:8080/",
          "height": 128
        }
      },
      "source": [
        "str = input(\"enter a string\")\n",
        "count={}\n",
        "string = str.split()\n",
        "for substring in string :\n",
        "  if string in counts:\n",
        "    count[substring]+=1\n",
        "  else :\n",
        "      count[substring]=1\n",
        "      for a,b in count item():\n",
        "        print(a,b)"
      ],
      "execution_count": 19,
      "outputs": [
        {
          "output_type": "error",
          "ename": "SyntaxError",
          "evalue": "ignored",
          "traceback": [
            "\u001b[0;36m  File \u001b[0;32m\"<ipython-input-19-f7bf9021ff4d>\"\u001b[0;36m, line \u001b[0;32m9\u001b[0m\n\u001b[0;31m    for a,b in count item():\u001b[0m\n\u001b[0m                        ^\u001b[0m\n\u001b[0;31mSyntaxError\u001b[0m\u001b[0;31m:\u001b[0m invalid syntax\n"
          ]
        }
      ]
    },
    {
      "cell_type": "code",
      "metadata": {
        "id": "Ha6EhIx5sz3F"
      },
      "source": [
        ""
      ],
      "execution_count": null,
      "outputs": []
    }
  ]
}