{
  "nbformat": 4,
  "nbformat_minor": 0,
  "metadata": {
    "colab": {
      "name": "series1.ipynb",
      "provenance": [],
      "authorship_tag": "ABX9TyPRvdB1PuVmVtUQ1l20kY6D",
      "include_colab_link": true
    },
    "kernelspec": {
      "name": "python3",
      "display_name": "Python 3"
    }
  },
  "cells": [
    {
      "cell_type": "markdown",
      "metadata": {
        "id": "view-in-github",
        "colab_type": "text"
      },
      "source": [
        "<a href=\"https://colab.research.google.com/github/varsha824varsha/Class-Assignment-1---Getting-Started-with-Python-Programming/blob/master/series1.ipynb\" target=\"_parent\"><img src=\"https://colab.research.google.com/assets/colab-badge.svg\" alt=\"Open In Colab\"/></a>"
      ]
    },
    {
      "cell_type": "code",
      "metadata": {
        "id": "bR-l-zO8yKOt",
        "outputId": "d1fb1cee-b99e-4025-f912-deae2eb8055d",
        "colab": {
          "base_uri": "https://localhost:8080/",
          "height": 51
        }
      },
      "source": [
        "from math import pi\n",
        "r = float(input(\"input the radius of circle:\"))\n",
        "print(\"the area of circle is\" + str(r) + \"is:\"+ str(pi*r**2))"
      ],
      "execution_count": 2,
      "outputs": [
        {
          "output_type": "stream",
          "text": [
            "input the radius of circle: 2\n",
            "the area of circle is2.0is:12.566370614359172\n"
          ],
          "name": "stdout"
        }
      ]
    },
    {
      "cell_type": "code",
      "metadata": {
        "id": "ws1rQ-a7uirU",
        "outputId": "6756a1ae-9373-439e-c7cd-bbe2a5c225e2",
        "colab": {
          "base_uri": "https://localhost:8080/",
          "height": 128
        }
      },
      "source": [
        "def common_data(list1,list2):\n",
        "  result = False\n",
        "  for x in list1:\n",
        "    for y in list2:\n",
        "      if(x==y):\n",
        "      result = True\n",
        "      return result\n",
        "      list1 = input(\"enter first list(space seperated):\")\n",
        "      list1 = list(list1.split())\n",
        "      list2 = input(\"enter second list(space seperated):\")\n",
        "      list2 = list(list2.split())\n",
        "      r = common_data(list1,list2)\n",
        "      if r:\n",
        "        print(\"list1,\"and\" list2,has common members:\",n)\n",
        "        else:\n",
        "          print(\"list1,\"and\"list2,has atleast common:\",r)\n",
        "\n",
        "\n"
      ],
      "execution_count": 5,
      "outputs": [
        {
          "output_type": "error",
          "ename": "IndentationError",
          "evalue": "ignored",
          "traceback": [
            "\u001b[0;36m  File \u001b[0;32m\"<ipython-input-5-7f601b8eef75>\"\u001b[0;36m, line \u001b[0;32m6\u001b[0m\n\u001b[0;31m    result = True\u001b[0m\n\u001b[0m         ^\u001b[0m\n\u001b[0;31mIndentationError\u001b[0m\u001b[0;31m:\u001b[0m expected an indented block\n"
          ]
        }
      ]
    },
    {
      "cell_type": "code",
      "metadata": {
        "id": "Ha6EhIx5sz3F"
      },
      "source": [
        ""
      ],
      "execution_count": null,
      "outputs": []
    }
  ]
}