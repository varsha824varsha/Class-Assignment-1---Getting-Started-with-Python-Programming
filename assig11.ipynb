{
  "nbformat": 4,
  "nbformat_minor": 0,
  "metadata": {
    "colab": {
      "name": "assig11.ipynb",
      "provenance": [],
      "authorship_tag": "ABX9TyNpT0YGA8o3CvoNnka8Pr2Z",
      "include_colab_link": true
    },
    "kernelspec": {
      "name": "python3",
      "display_name": "Python 3"
    }
  },
  "cells": [
    {
      "cell_type": "markdown",
      "metadata": {
        "id": "view-in-github",
        "colab_type": "text"
      },
      "source": [
        "<a href=\"https://colab.research.google.com/github/varsha824varsha/Class-Assignment-1---Getting-Started-with-Python-Programming/blob/master/assig11.ipynb\" target=\"_parent\"><img src=\"https://colab.research.google.com/assets/colab-badge.svg\" alt=\"Open In Colab\"/></a>"
      ]
    },
    {
      "cell_type": "code",
      "metadata": {
        "colab": {
          "base_uri": "https://localhost:8080/"
        },
        "id": "GQ2BnPDsPITF",
        "outputId": "5f94f18d-43ed-42a1-f113-af0352c58540"
      },
      "source": [
        "year = int(input(\"Enter Year: \"))\r\n",
        "if year % 4 == 0 and year % 100 != 0:\r\n",
        "    print(year, \"is a Leap Year\")\r\n",
        "elif year % 100 == 0:\r\n",
        "    print(year, \"is not a Leap Year\")\r\n",
        "elif year % 400 ==0:\r\n",
        "    print(year, \"is a Leap Year\")\r\n",
        "else:\r\n",
        "    print(year, \"is not a Leap Year\")"
      ],
      "execution_count": 1,
      "outputs": [
        {
          "output_type": "stream",
          "text": [
            "Enter Year: 1990\n",
            "1990 is not a Leap Year\n"
          ],
          "name": "stdout"
        }
      ]
    },
    {
      "cell_type": "code",
      "metadata": {
        "colab": {
          "base_uri": "https://localhost:8080/"
        },
        "id": "dI80L9Z8Pvvj",
        "outputId": "f70b6b0a-46a1-4535-bfbd-90aaa65440ac"
      },
      "source": [
        "X = [[1,2,3],\r\n",
        "    [4 ,5,6],\r\n",
        "    [7 ,8,9]]\r\n",
        " \r\n",
        "Y = [[2,4,6],\r\n",
        "    [8,10,12],\r\n",
        "    [14,16,18]]\r\n",
        " \r\n",
        "result = [[0,0,0],\r\n",
        "         [0,0,0],\r\n",
        "         [0,0,0]]\r\n",
        "for i in range(len(X)):\r\n",
        "   for j in range(len(X[0])):\r\n",
        "       result[i][j] = X[i][j] + Y[i][j]\r\n",
        "for r in result:\r\n",
        "   print(r)"
      ],
      "execution_count": 2,
      "outputs": [
        {
          "output_type": "stream",
          "text": [
            "[3, 6, 9]\n",
            "[12, 15, 18]\n",
            "[21, 24, 27]\n"
          ],
          "name": "stdout"
        }
      ]
    },
    {
      "cell_type": "code",
      "metadata": {
        "colab": {
          "base_uri": "https://localhost:8080/"
        },
        "id": "U8RkIzsRQFir",
        "outputId": "930d74bf-6d33-4d55-bd9c-994fa4cb3f47"
      },
      "source": [
        "string = input(\"Enter your String : \")\r\n",
        "str1 = \"\"\r\n",
        "for i in string:\r\n",
        "    str1 = i + str1  \r\n",
        "print(\"String in reverse Order :  \", str1)\r\n",
        "if(string == str1):\r\n",
        "   print(\"This is a Palindrome String\")\r\n",
        "else:\r\n",
        "   print(\"This is Not a Palindrome String\")"
      ],
      "execution_count": 3,
      "outputs": [
        {
          "output_type": "stream",
          "text": [
            "Enter your String : hello\n",
            "String in reverse Order :   olleh\n",
            "This is Not a Palindrome String\n"
          ],
          "name": "stdout"
        }
      ]
    },
    {
      "cell_type": "code",
      "metadata": {
        "colab": {
          "base_uri": "https://localhost:8080/"
        },
        "id": "wHtUW-31QXNQ",
        "outputId": "4295c57c-b21f-4dfc-ced7-f0e7507f99f6"
      },
      "source": [
        "mylist = []\r\n",
        "size = int(input('Enter no of elements of list: '))\r\n",
        "print('Enter the elements:')\r\n",
        "for i in range(size):\r\n",
        "    element = int(input())\r\n",
        "    mylist.append(element)\r\n",
        "large = 0\r\n",
        "for element in mylist:\r\n",
        "    if element > large:\r\n",
        "        large = element\r\n",
        "print('The largest number in list is', large)"
      ],
      "execution_count": 4,
      "outputs": [
        {
          "output_type": "stream",
          "text": [
            "Enter no of elements of list: 4\n",
            "Enter the elements:\n",
            "2\n",
            "3\n",
            "5\n",
            "7\n",
            "The largest number in list is 7\n"
          ],
          "name": "stdout"
        }
      ]
    }
  ]
}