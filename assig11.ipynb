{
  "nbformat": 4,
  "nbformat_minor": 0,
  "metadata": {
    "colab": {
      "name": "assig11.ipynb",
      "provenance": [],
      "authorship_tag": "ABX9TyPh4+lP7vyb61tIY7wkJii8",
      "include_colab_link": true
    },
    "kernelspec": {
      "name": "python3",
      "display_name": "Python 3"
    }
  },
  "cells": [
    {
      "cell_type": "markdown",
      "metadata": {
        "id": "view-in-github",
        "colab_type": "text"
      },
      "source": [
        "<a href=\"https://colab.research.google.com/github/varsha824varsha/Class-Assignment-1---Getting-Started-with-Python-Programming/blob/master/assig11.ipynb\" target=\"_parent\"><img src=\"https://colab.research.google.com/assets/colab-badge.svg\" alt=\"Open In Colab\"/></a>"
      ]
    },
    {
      "cell_type": "code",
      "metadata": {
        "colab": {
          "base_uri": "https://localhost:8080/"
        },
        "id": "GQ2BnPDsPITF",
        "outputId": "5f94f18d-43ed-42a1-f113-af0352c58540"
      },
      "source": [
        "year = int(input(\"Enter Year: \"))\r\n",
        "if year % 4 == 0 and year % 100 != 0:\r\n",
        "    print(year, \"is a Leap Year\")\r\n",
        "elif year % 100 == 0:\r\n",
        "    print(year, \"is not a Leap Year\")\r\n",
        "elif year % 400 ==0:\r\n",
        "    print(year, \"is a Leap Year\")\r\n",
        "else:\r\n",
        "    print(year, \"is not a Leap Year\")"
      ],
      "execution_count": 1,
      "outputs": [
        {
          "output_type": "stream",
          "text": [
            "Enter Year: 1990\n",
            "1990 is not a Leap Year\n"
          ],
          "name": "stdout"
        }
      ]
    }
  ]
}