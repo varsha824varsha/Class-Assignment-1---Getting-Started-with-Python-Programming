{
  "nbformat": 4,
  "nbformat_minor": 0,
  "metadata": {
    "colab": {
      "name": "assig11.ipynb",
      "provenance": [],
      "authorship_tag": "ABX9TyNgIhVpAz1OaKoCbqcDFG8J",
      "include_colab_link": true
    },
    "kernelspec": {
      "name": "python3",
      "display_name": "Python 3"
    }
  },
  "cells": [
    {
      "cell_type": "markdown",
      "metadata": {
        "id": "view-in-github",
        "colab_type": "text"
      },
      "source": [
        "<a href=\"https://colab.research.google.com/github/varsha824varsha/Class-Assignment-1---Getting-Started-with-Python-Programming/blob/master/assig11.ipynb\" target=\"_parent\"><img src=\"https://colab.research.google.com/assets/colab-badge.svg\" alt=\"Open In Colab\"/></a>"
      ]
    },
    {
      "cell_type": "code",
      "metadata": {
        "colab": {
          "base_uri": "https://localhost:8080/"
        },
        "id": "GQ2BnPDsPITF",
        "outputId": "5f94f18d-43ed-42a1-f113-af0352c58540"
      },
      "source": [
        "year = int(input(\"Enter Year: \"))\r\n",
        "if year % 4 == 0 and year % 100 != 0:\r\n",
        "    print(year, \"is a Leap Year\")\r\n",
        "elif year % 100 == 0:\r\n",
        "    print(year, \"is not a Leap Year\")\r\n",
        "elif year % 400 ==0:\r\n",
        "    print(year, \"is a Leap Year\")\r\n",
        "else:\r\n",
        "    print(year, \"is not a Leap Year\")"
      ],
      "execution_count": 1,
      "outputs": [
        {
          "output_type": "stream",
          "text": [
            "Enter Year: 1990\n",
            "1990 is not a Leap Year\n"
          ],
          "name": "stdout"
        }
      ]
    },
    {
      "cell_type": "code",
      "metadata": {
        "colab": {
          "base_uri": "https://localhost:8080/"
        },
        "id": "dI80L9Z8Pvvj",
        "outputId": "f70b6b0a-46a1-4535-bfbd-90aaa65440ac"
      },
      "source": [
        "X = [[1,2,3],\r\n",
        "    [4 ,5,6],\r\n",
        "    [7 ,8,9]]\r\n",
        " \r\n",
        "Y = [[2,4,6],\r\n",
        "    [8,10,12],\r\n",
        "    [14,16,18]]\r\n",
        " \r\n",
        "result = [[0,0,0],\r\n",
        "         [0,0,0],\r\n",
        "         [0,0,0]]\r\n",
        "for i in range(len(X)):\r\n",
        "   for j in range(len(X[0])):\r\n",
        "       result[i][j] = X[i][j] + Y[i][j]\r\n",
        "for r in result:\r\n",
        "   print(r)"
      ],
      "execution_count": 2,
      "outputs": [
        {
          "output_type": "stream",
          "text": [
            "[3, 6, 9]\n",
            "[12, 15, 18]\n",
            "[21, 24, 27]\n"
          ],
          "name": "stdout"
        }
      ]
    }
  ]
}