{
  "nbformat": 4,
  "nbformat_minor": 0,
  "metadata": {
    "colab": {
      "name": "list assignment.ipynb",
      "provenance": [],
      "authorship_tag": "ABX9TyM/qbaXKMspcRPdVBiN+y7v",
      "include_colab_link": true
    },
    "kernelspec": {
      "name": "python3",
      "display_name": "Python 3"
    }
  },
  "cells": [
    {
      "cell_type": "markdown",
      "metadata": {
        "id": "view-in-github",
        "colab_type": "text"
      },
      "source": [
        "<a href=\"https://colab.research.google.com/github/varsha824varsha/Class-Assignment-1---Getting-Started-with-Python-Programming/blob/master/list_assignment.ipynb\" target=\"_parent\"><img src=\"https://colab.research.google.com/assets/colab-badge.svg\" alt=\"Open In Colab\"/></a>"
      ]
    },
    {
      "cell_type": "code",
      "metadata": {
        "id": "y10E0IlGyk9Z",
        "colab_type": "code",
        "colab": {
          "base_uri": "https://localhost:8080/",
          "height": 119
        },
        "outputId": "6e69aa4d-da3d-4afd-8588-a470e2314b10"
      },
      "source": [
        "list=[12,13,14,15,16,32]\n",
        "count=0\n",
        "print(\"\\nthe list is:\")\n",
        "print(list)\n",
        "item=int(input(\"enter  the element to be searched\\n\"))\n",
        "for i in range(0,6):\n",
        "  if list [i]==item:\n",
        "    print(\"element found at position\",i+1)\n",
        "    count=count+1\n",
        "    if count==0:\n",
        "      print(\"the element is not found in this list\\n\")"
      ],
      "execution_count": 1,
      "outputs": [
        {
          "output_type": "stream",
          "text": [
            "\n",
            "the list is:\n",
            "[12, 13, 14, 15, 16, 32]\n",
            "enter  the element to be searched\n",
            "13\n",
            "element found at position 2\n"
          ],
          "name": "stdout"
        }
      ]
    }
  ]
}