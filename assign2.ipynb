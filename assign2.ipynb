{
  "nbformat": 4,
  "nbformat_minor": 0,
  "metadata": {
    "colab": {
      "name": "assign2.ipynb",
      "provenance": [],
      "authorship_tag": "ABX9TyNter7aMWIp/IhET+vHrEXx",
      "include_colab_link": true
    },
    "kernelspec": {
      "name": "python3",
      "display_name": "Python 3"
    }
  },
  "cells": [
    {
      "cell_type": "markdown",
      "metadata": {
        "id": "view-in-github",
        "colab_type": "text"
      },
      "source": [
        "<a href=\"https://colab.research.google.com/github/varsha824varsha/Class-Assignment-1---Getting-Started-with-Python-Programming/blob/master/assign2.ipynb\" target=\"_parent\"><img src=\"https://colab.research.google.com/assets/colab-badge.svg\" alt=\"Open In Colab\"/></a>"
      ]
    },
    {
      "cell_type": "code",
      "metadata": {
        "id": "7zUY8sHY48Ja",
        "outputId": "c058cd67-c04a-4121-a858-9cc9c8cf80b7",
        "colab": {
          "base_uri": "https://localhost:8080/",
          "height": 68
        }
      },
      "source": [
        "nlist = [4, 2, 7, 5, 12, 54, 21, 64, 12, 32]\n",
        "print('List has the items: ', nlist)\n",
        "searchItem = int(input('Enter a number to search for: '))\n",
        "found = False\n",
        "for i in range(len(nlist)):\n",
        "    if nlist[i] == searchItem:\n",
        "        found = True\n",
        "        print(searchItem, ' was found in the list at index ', i)\n",
        "        break\n",
        "if found == False:\n",
        "    print(searchItem, ' was not found in the list!')\n",
        "\n",
        "\n"
      ],
      "execution_count": 1,
      "outputs": [
        {
          "output_type": "stream",
          "text": [
            "List has the items:  [4, 2, 7, 5, 12, 54, 21, 64, 12, 32]\n",
            "Enter a number to search for: 21\n",
            "21  was found in the list at index  6\n"
          ],
          "name": "stdout"
        }
      ]
    },
    {
      "cell_type": "code",
      "metadata": {
        "id": "FlcP2FsrSIl_",
        "outputId": "5bf0c01e-fa74-4e2c-d74f-cd93ded039c5",
        "colab": {
          "base_uri": "https://localhost:8080/",
          "height": 129
        }
      },
      "source": [
        "list1 = [10, 20, 4, 45, 99] \n",
        "  list1.sort() \n",
        "  print(\"Largest element is:\", list1[-1]) \n"
      ],
      "execution_count": 2,
      "outputs": [
        {
          "output_type": "error",
          "ename": "IndentationError",
          "evalue": "ignored",
          "traceback": [
            "\u001b[0;36m  File \u001b[0;32m\"<ipython-input-2-db01214b693d>\"\u001b[0;36m, line \u001b[0;32m2\u001b[0m\n\u001b[0;31m    list1.sort()\u001b[0m\n\u001b[0m    ^\u001b[0m\n\u001b[0;31mIndentationError\u001b[0m\u001b[0;31m:\u001b[0m unexpected indent\n"
          ]
        }
      ]
    },
    {
      "cell_type": "code",
      "metadata": {
        "id": "UydroBJgS5LY",
        "outputId": "9fae2aaf-f107-413c-ca6e-31f2da1b9137",
        "colab": {
          "base_uri": "https://localhost:8080/",
          "height": 102
        }
      },
      "source": [
        "list1 = [] \n",
        "  \n",
        "\n",
        "num = int(input(\"Enter number of elements in list: \")) \n",
        "  \n",
        "\n",
        "for i in range(1, num + 1): \n",
        "    ele = int(input(\"Enter elements: \")) \n",
        "    list1.append(ele) \n",
        "      \n",
        "\n",
        "print(\"Largest element is:\", max(list1)) \n"
      ],
      "execution_count": 3,
      "outputs": [
        {
          "output_type": "stream",
          "text": [
            "Enter number of elements in list: 3\n",
            "Enter elements: 12\n",
            "Enter elements: 19\n",
            "Enter elements: 52\n",
            "Largest element is: 52\n"
          ],
          "name": "stdout"
        }
      ]
    }
  ]
}