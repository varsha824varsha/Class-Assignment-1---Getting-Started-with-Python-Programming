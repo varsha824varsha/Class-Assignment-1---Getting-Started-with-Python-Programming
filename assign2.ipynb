{
  "nbformat": 4,
  "nbformat_minor": 0,
  "metadata": {
    "colab": {
      "name": "assign2.ipynb",
      "provenance": [],
      "authorship_tag": "ABX9TyMKPAoU2upe2NMdjrqDDTuZ",
      "include_colab_link": true
    },
    "kernelspec": {
      "name": "python3",
      "display_name": "Python 3"
    }
  },
  "cells": [
    {
      "cell_type": "markdown",
      "metadata": {
        "id": "view-in-github",
        "colab_type": "text"
      },
      "source": [
        "<a href=\"https://colab.research.google.com/github/varsha824varsha/Class-Assignment-1---Getting-Started-with-Python-Programming/blob/master/assign2.ipynb\" target=\"_parent\"><img src=\"https://colab.research.google.com/assets/colab-badge.svg\" alt=\"Open In Colab\"/></a>"
      ]
    },
    {
      "cell_type": "code",
      "metadata": {
        "id": "7zUY8sHY48Ja",
        "outputId": "c058cd67-c04a-4121-a858-9cc9c8cf80b7",
        "colab": {
          "base_uri": "https://localhost:8080/",
          "height": 68
        }
      },
      "source": [
        "nlist = [4, 2, 7, 5, 12, 54, 21, 64, 12, 32]\n",
        "print('List has the items: ', nlist)\n",
        "searchItem = int(input('Enter a number to search for: '))\n",
        "found = False\n",
        "for i in range(len(nlist)):\n",
        "    if nlist[i] == searchItem:\n",
        "        found = True\n",
        "        print(searchItem, ' was found in the list at index ', i)\n",
        "        break\n",
        "if found == False:\n",
        "    print(searchItem, ' was not found in the list!')\n",
        "\n",
        "\n"
      ],
      "execution_count": 1,
      "outputs": [
        {
          "output_type": "stream",
          "text": [
            "List has the items:  [4, 2, 7, 5, 12, 54, 21, 64, 12, 32]\n",
            "Enter a number to search for: 21\n",
            "21  was found in the list at index  6\n"
          ],
          "name": "stdout"
        }
      ]
    },
    {
      "cell_type": "code",
      "metadata": {
        "id": "FlcP2FsrSIl_",
        "outputId": "5bf0c01e-fa74-4e2c-d74f-cd93ded039c5",
        "colab": {
          "base_uri": "https://localhost:8080/",
          "height": 129
        }
      },
      "source": [
        "list1 = [10, 20, 4, 45, 99] \n",
        "  list1.sort() \n",
        "  print(\"Largest element is:\", list1[-1]) \n"
      ],
      "execution_count": 2,
      "outputs": [
        {
          "output_type": "error",
          "ename": "IndentationError",
          "evalue": "ignored",
          "traceback": [
            "\u001b[0;36m  File \u001b[0;32m\"<ipython-input-2-db01214b693d>\"\u001b[0;36m, line \u001b[0;32m2\u001b[0m\n\u001b[0;31m    list1.sort()\u001b[0m\n\u001b[0m    ^\u001b[0m\n\u001b[0;31mIndentationError\u001b[0m\u001b[0;31m:\u001b[0m unexpected indent\n"
          ]
        }
      ]
    },
    {
      "cell_type": "code",
      "metadata": {
        "id": "UydroBJgS5LY",
        "outputId": "9fae2aaf-f107-413c-ca6e-31f2da1b9137",
        "colab": {
          "base_uri": "https://localhost:8080/",
          "height": 102
        }
      },
      "source": [
        "list1 = [] \n",
        "  \n",
        "\n",
        "num = int(input(\"Enter number of elements in list: \")) \n",
        "  \n",
        "\n",
        "for i in range(1, num + 1): \n",
        "    ele = int(input(\"Enter elements: \")) \n",
        "    list1.append(ele) \n",
        "      \n",
        "\n",
        "print(\"Largest element is:\", max(list1)) \n"
      ],
      "execution_count": 3,
      "outputs": [
        {
          "output_type": "stream",
          "text": [
            "Enter number of elements in list: 3\n",
            "Enter elements: 12\n",
            "Enter elements: 19\n",
            "Enter elements: 52\n",
            "Largest element is: 52\n"
          ],
          "name": "stdout"
        }
      ]
    },
    {
      "cell_type": "code",
      "metadata": {
        "id": "zAmGv_NNTRAh"
      },
      "source": [
        ""
      ],
      "execution_count": null,
      "outputs": []
    },
    {
      "cell_type": "code",
      "metadata": {
        "id": "UsUKCJcTT28X",
        "outputId": "1e0ef1e7-9e05-49ab-b519-a44f63a31423",
        "colab": {
          "base_uri": "https://localhost:8080/",
          "height": 34
        }
      },
      "source": [
        "def sum_list(items):\n",
        "    sum_numbers = 0\n",
        "    for x in items:\n",
        "        sum_numbers += x\n",
        "    return sum_numbers\n",
        "print(sum_list([1,2,-8]))"
      ],
      "execution_count": 4,
      "outputs": [
        {
          "output_type": "stream",
          "text": [
            "-5\n"
          ],
          "name": "stdout"
        }
      ]
    },
    {
      "cell_type": "code",
      "metadata": {
        "id": "mtzX3eZUUHk3",
        "outputId": "9b2927b6-f457-43de-e8c8-ea91146a07eb",
        "colab": {
          "base_uri": "https://localhost:8080/",
          "height": 34
        }
      },
      "source": [
        "def Remove(duplicate): \n",
        "\tfinal_list = [] \n",
        "\tfor num in duplicate: \n",
        "\t\tif num not in final_list: \n",
        "\t\t\tfinal_list.append(num) \n",
        "\treturn final_list \n",
        "\t\n",
        "duplicate = [10,20,30,20,10,50,60,40,80,50,40]\n",
        "print(Remove(duplicate))"
      ],
      "execution_count": 5,
      "outputs": [
        {
          "output_type": "stream",
          "text": [
            "[10, 20, 30, 50, 60, 40, 80]\n"
          ],
          "name": "stdout"
        }
      ]
    },
    {
      "cell_type": "code",
      "metadata": {
        "id": "W9EdbAfuUhsa",
        "outputId": "6570b1ed-04f2-43b5-acd4-d246e6e6f684",
        "colab": {
          "base_uri": "https://localhost:8080/",
          "height": 51
        }
      },
      "source": [
        "def data(list1, list2):\n",
        "     result = False\n",
        "     for x in list1:\n",
        "         for y in list2:\n",
        "             if x == y:\n",
        "                 result = True\n",
        "                 return result\n",
        "print(data([1,2,3,4,5], [5,6,7,8,9]))\n",
        "print(data([1,2,3,4,5], [6,7,8,9]))\n"
      ],
      "execution_count": 7,
      "outputs": [
        {
          "output_type": "stream",
          "text": [
            "True\n",
            "None\n"
          ],
          "name": "stdout"
        }
      ]
    },
    {
      "cell_type": "code",
      "metadata": {
        "id": "1SLyHer4Ur8e",
        "outputId": "ce962fb2-40f9-4bce-d5c5-2b4f241c8e65",
        "colab": {
          "base_uri": "https://localhost:8080/",
          "height": 34
        }
      },
      "source": [
        "list1 = [1, 2, 3, 0]\n",
        "list2 = ['Red', 'Green', 'Black']\n",
        "final_list = list1 + list2\n",
        "print(final_list)"
      ],
      "execution_count": 8,
      "outputs": [
        {
          "output_type": "stream",
          "text": [
            "[1, 2, 3, 0, 'Red', 'Green', 'Black']\n"
          ],
          "name": "stdout"
        }
      ]
    }
  ]
}