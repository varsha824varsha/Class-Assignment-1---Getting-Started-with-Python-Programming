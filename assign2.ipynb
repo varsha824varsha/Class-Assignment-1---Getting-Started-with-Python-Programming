{
  "nbformat": 4,
  "nbformat_minor": 0,
  "metadata": {
    "colab": {
      "name": "assign2.ipynb",
      "provenance": [],
      "authorship_tag": "ABX9TyPqUhk/jCvlvlnhWZMFB9Wn",
      "include_colab_link": true
    },
    "kernelspec": {
      "name": "python3",
      "display_name": "Python 3"
    }
  },
  "cells": [
    {
      "cell_type": "markdown",
      "metadata": {
        "id": "view-in-github",
        "colab_type": "text"
      },
      "source": [
        "<a href=\"https://colab.research.google.com/github/varsha824varsha/Class-Assignment-1---Getting-Started-with-Python-Programming/blob/master/assign2.ipynb\" target=\"_parent\"><img src=\"https://colab.research.google.com/assets/colab-badge.svg\" alt=\"Open In Colab\"/></a>"
      ]
    },
    {
      "cell_type": "code",
      "metadata": {
        "id": "7zUY8sHY48Ja",
        "outputId": "c058cd67-c04a-4121-a858-9cc9c8cf80b7",
        "colab": {
          "base_uri": "https://localhost:8080/",
          "height": 68
        }
      },
      "source": [
        "nlist = [4, 2, 7, 5, 12, 54, 21, 64, 12, 32]\n",
        "print('List has the items: ', nlist)\n",
        "searchItem = int(input('Enter a number to search for: '))\n",
        "found = False\n",
        "for i in range(len(nlist)):\n",
        "    if nlist[i] == searchItem:\n",
        "        found = True\n",
        "        print(searchItem, ' was found in the list at index ', i)\n",
        "        break\n",
        "if found == False:\n",
        "    print(searchItem, ' was not found in the list!')\n",
        "\n",
        "\n"
      ],
      "execution_count": null,
      "outputs": [
        {
          "output_type": "stream",
          "text": [
            "List has the items:  [4, 2, 7, 5, 12, 54, 21, 64, 12, 32]\n",
            "Enter a number to search for: 21\n",
            "21  was found in the list at index  6\n"
          ],
          "name": "stdout"
        }
      ]
    },
    {
      "cell_type": "code",
      "metadata": {
        "id": "q8lOaUdwWguC"
      },
      "source": [
        ""
      ],
      "execution_count": null,
      "outputs": []
    },
    {
      "cell_type": "code",
      "metadata": {
        "id": "UydroBJgS5LY",
        "outputId": "9fae2aaf-f107-413c-ca6e-31f2da1b9137",
        "colab": {
          "base_uri": "https://localhost:8080/",
          "height": 102
        }
      },
      "source": [
        "list1 = [] \n",
        "  \n",
        "\n",
        "num = int(input(\"Enter number of elements in list: \")) \n",
        "  \n",
        "\n",
        "for i in range(1, num + 1): \n",
        "    ele = int(input(\"Enter elements: \")) \n",
        "    list1.append(ele) \n",
        "      \n",
        "\n",
        "print(\"Largest element is:\", max(list1)) \n"
      ],
      "execution_count": null,
      "outputs": [
        {
          "output_type": "stream",
          "text": [
            "Enter number of elements in list: 3\n",
            "Enter elements: 12\n",
            "Enter elements: 19\n",
            "Enter elements: 52\n",
            "Largest element is: 52\n"
          ],
          "name": "stdout"
        }
      ]
    },
    {
      "cell_type": "code",
      "metadata": {
        "id": "zAmGv_NNTRAh"
      },
      "source": [
        ""
      ],
      "execution_count": null,
      "outputs": []
    },
    {
      "cell_type": "code",
      "metadata": {
        "id": "UsUKCJcTT28X",
        "outputId": "1e0ef1e7-9e05-49ab-b519-a44f63a31423",
        "colab": {
          "base_uri": "https://localhost:8080/",
          "height": 34
        }
      },
      "source": [
        "def sum_list(items):\n",
        "    sum_numbers = 0\n",
        "    for x in items:\n",
        "        sum_numbers += x\n",
        "    return sum_numbers\n",
        "print(sum_list([1,2,-8]))"
      ],
      "execution_count": null,
      "outputs": [
        {
          "output_type": "stream",
          "text": [
            "-5\n"
          ],
          "name": "stdout"
        }
      ]
    },
    {
      "cell_type": "code",
      "metadata": {
        "id": "mtzX3eZUUHk3",
        "outputId": "9b2927b6-f457-43de-e8c8-ea91146a07eb",
        "colab": {
          "base_uri": "https://localhost:8080/",
          "height": 34
        }
      },
      "source": [
        "def Remove(duplicate): \n",
        "\tfinal_list = [] \n",
        "\tfor num in duplicate: \n",
        "\t\tif num not in final_list: \n",
        "\t\t\tfinal_list.append(num) \n",
        "\treturn final_list \n",
        "\t\n",
        "duplicate = [10,20,30,20,10,50,60,40,80,50,40]\n",
        "print(Remove(duplicate))"
      ],
      "execution_count": null,
      "outputs": [
        {
          "output_type": "stream",
          "text": [
            "[10, 20, 30, 50, 60, 40, 80]\n"
          ],
          "name": "stdout"
        }
      ]
    },
    {
      "cell_type": "code",
      "metadata": {
        "id": "W9EdbAfuUhsa",
        "outputId": "6570b1ed-04f2-43b5-acd4-d246e6e6f684",
        "colab": {
          "base_uri": "https://localhost:8080/",
          "height": 51
        }
      },
      "source": [
        "def data(list1, list2):\n",
        "     result = False\n",
        "     for x in list1:\n",
        "         for y in list2:\n",
        "             if x == y:\n",
        "                 result = True\n",
        "                 return result\n",
        "print(data([1,2,3,4,5], [5,6,7,8,9]))\n",
        "print(data([1,2,3,4,5], [6,7,8,9]))\n"
      ],
      "execution_count": null,
      "outputs": [
        {
          "output_type": "stream",
          "text": [
            "True\n",
            "None\n"
          ],
          "name": "stdout"
        }
      ]
    },
    {
      "cell_type": "code",
      "metadata": {
        "id": "1SLyHer4Ur8e",
        "outputId": "ce962fb2-40f9-4bce-d5c5-2b4f241c8e65",
        "colab": {
          "base_uri": "https://localhost:8080/",
          "height": 34
        }
      },
      "source": [
        "list1 = [1, 2, 3, 0]\n",
        "list2 = ['Red', 'Green', 'Black']\n",
        "final_list = list1 + list2\n",
        "print(final_list)"
      ],
      "execution_count": null,
      "outputs": [
        {
          "output_type": "stream",
          "text": [
            "[1, 2, 3, 0, 'Red', 'Green', 'Black']\n"
          ],
          "name": "stdout"
        }
      ]
    },
    {
      "cell_type": "code",
      "metadata": {
        "id": "g9aDHp20U7af",
        "outputId": "05615a72-5ced-4597-8fab-24ed2ea8454b",
        "colab": {
          "base_uri": "https://localhost:8080/",
          "height": 68
        }
      },
      "source": [
        "X = [[1,2,3], \n",
        "    [4 ,5,6], \n",
        "    [7 ,8,9]] \n",
        "  \n",
        "Y = [[9,8,7], \n",
        "    [6,5,4], \n",
        "    [3,2,1]] \n",
        "  \n",
        "  \n",
        "result = [[0,0,0], \n",
        "        [0,0,0], \n",
        "        [0,0,0]] \n",
        "  \n",
        "for i in range(len(X)):    \n",
        "\n",
        "    for j in range(len(X[0])): \n",
        "        result[i][j] = X[i][j] + Y[i][j] \n",
        "  \n",
        "for r in result: \n",
        "    print(r) "
      ],
      "execution_count": 20,
      "outputs": [
        {
          "output_type": "stream",
          "text": [
            "[10, 10, 10]\n",
            "[10, 10, 10]\n",
            "[10, 10, 10]\n"
          ],
          "name": "stdout"
        }
      ]
    },
    {
      "cell_type": "code",
      "metadata": {
        "id": "rUuAciGkV37l",
        "outputId": "861e8c04-4f61-4cbd-f91f-8d2ba87299d7",
        "colab": {
          "base_uri": "https://localhost:8080/",
          "height": 51
        }
      },
      "source": [
        " string=input(\"Enter string:\")\n",
        "if(string==string[::-1]):\n",
        "      print(\"The string is a palindrome\")\n",
        "else:\n",
        "      print(\"The string isn't a palindrome\")"
      ],
      "execution_count": 27,
      "outputs": [
        {
          "output_type": "stream",
          "text": [
            "Enter string:malayalam\n",
            "The string is a palindrome\n"
          ],
          "name": "stdout"
        }
      ]
    },
    {
      "cell_type": "markdown",
      "metadata": {
        "id": "in3WjNPlZVbx"
      },
      "source": [
        ""
      ]
    }
  ]
}