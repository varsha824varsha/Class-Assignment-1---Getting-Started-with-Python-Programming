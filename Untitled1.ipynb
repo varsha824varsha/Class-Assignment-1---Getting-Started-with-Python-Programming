{
  "nbformat": 4,
  "nbformat_minor": 0,
  "metadata": {
    "colab": {
      "name": "Untitled1.ipynb",
      "provenance": [],
      "collapsed_sections": [],
      "authorship_tag": "ABX9TyPYa4FW1rQXziRYpZvLxbmp",
      "include_colab_link": true
    },
    "kernelspec": {
      "name": "python3",
      "display_name": "Python 3"
    }
  },
  "cells": [
    {
      "cell_type": "markdown",
      "metadata": {
        "id": "view-in-github",
        "colab_type": "text"
      },
      "source": [
        "<a href=\"https://colab.research.google.com/github/varsha824varsha/Class-Assignment-1---Getting-Started-with-Python-Programming/blob/master/Untitled1.ipynb\" target=\"_parent\"><img src=\"https://colab.research.google.com/assets/colab-badge.svg\" alt=\"Open In Colab\"/></a>"
      ]
    },
    {
      "cell_type": "code",
      "metadata": {
        "id": "Lt_rrQHiflJt",
        "colab_type": "code",
        "colab": {
          "base_uri": "https://localhost:8080/",
          "height": 67
        },
        "outputId": "4511058e-b555-4046-b4ad-9b6825b9efb0"
      },
      "source": [
        "\n",
        "import math\n",
        "import os\n",
        "import random\n",
        "import re\n",
        "import sys\n",
        "\n",
        "\n",
        "\n",
        "if __name__ == '__main__':\n",
        "    a = input(\" Enter the first string \")\n",
        "\n",
        "    b = input(\" Enter the second string  \")\n",
        "    if a==b:\n",
        "        print(\"Equal\")\n",
        "        \n",
        "    elif  a!=b:\n",
        "        print(\"NotEqual\")\n"
      ],
      "execution_count": 2,
      "outputs": [
        {
          "output_type": "stream",
          "text": [
            " Enter the first string hello\n",
            " Enter the second string  hi\n",
            "NotEqual\n"
          ],
          "name": "stdout"
        }
      ]
    },
    {
      "cell_type": "code",
      "metadata": {
        "id": "XqH6KSWeeBIe",
        "colab_type": "code",
        "colab": {
          "base_uri": "https://localhost:8080/",
          "height": 67
        },
        "outputId": "a673673a-e1e3-4e63-daee-499e7839b631"
      },
      "source": [
        "a= input(\" Enter first number \")\n",
        "b= input(\" Enter second number \")\n",
        "sum= (float(a)+float(b))\n",
        "print(\" The sum of \", a ,\"and\" ,b ,\"is\" ,sum)"
      ],
      "execution_count": 3,
      "outputs": [
        {
          "output_type": "stream",
          "text": [
            " Enter first number 89\n",
            " Enter second number 34\n",
            " The sum of  89 and 34 is 123.0\n"
          ],
          "name": "stdout"
        }
      ]
    },
    {
      "cell_type": "code",
      "metadata": {
        "id": "ZvyAMxBOjaR5",
        "colab_type": "code",
        "colab": {
          "base_uri": "https://localhost:8080/",
          "height": 50
        },
        "outputId": "289122b4-1e96-436e-ea4b-69bdd0427d8b"
      },
      "source": [
        "number = int(input(\" Enter a number \"))\n",
        "sqrt = number ** 0.5\n",
        "print(\" The square root of \", number, \"is \", sqrt )"
      ],
      "execution_count": 4,
      "outputs": [
        {
          "output_type": "stream",
          "text": [
            " Enter a number 144\n",
            " The square root of  144 is  12.0\n"
          ],
          "name": "stdout"
        }
      ]
    },
    {
      "cell_type": "code",
      "metadata": {
        "id": "aU8X_pDqkTTO",
        "colab_type": "code",
        "colab": {
          "base_uri": "https://localhost:8080/",
          "height": 84
        },
        "outputId": "1d4c9360-4106-42ef-ab2a-b46ce8773a93"
      },
      "source": [
        "a = float(input(\" Enter the first side \"))\n",
        "b = float(input(\" Enter the second side \"))\n",
        "c = float(input(\" Enter the third side \"))\n",
        "s = a+b+c/2 \n",
        "area = (s*(s-a)*(s-b)*(s-c))**0.5\n",
        "print(\" The area of the triangle is \", area )"
      ],
      "execution_count": 5,
      "outputs": [
        {
          "output_type": "stream",
          "text": [
            " Enter the first side 10\n",
            " Enter the second side 11\n",
            " Enter the third side 8\n",
            " The area of the triangle is  298.74738492579314\n"
          ],
          "name": "stdout"
        }
      ]
    },
    {
      "cell_type": "code",
      "metadata": {
        "id": "D8ApGiyRl5ER",
        "colab_type": "code",
        "colab": {
          "base_uri": "https://localhost:8080/",
          "height": 50
        },
        "outputId": "058d0059-6129-4241-c9c1-75cddc1b2263"
      },
      "source": [
        "celsius = float(input(\" Enter the temparature in celsius \"))\n",
        "fahrenheit = (celsius * 1.8 ) + 32\n",
        "print(celsius , \"C is equal to \" , fahrenheit , \"F\")\n",
        "\n"
      ],
      "execution_count": 6,
      "outputs": [
        {
          "output_type": "stream",
          "text": [
            " Enter the temparature in celsius 37\n",
            "37.0 C is equal to  98.60000000000001 F\n"
          ],
          "name": "stdout"
        }
      ]
    },
    {
      "cell_type": "code",
      "metadata": {
        "id": "bdfrmowzoJbj",
        "colab_type": "code",
        "colab": {
          "base_uri": "https://localhost:8080/",
          "height": 50
        },
        "outputId": "f9af0bfb-ba1c-42dc-b6ab-273b64511a15"
      },
      "source": [
        "a = float(input(\" Enter  the number \"))\n",
        "if a>0:\n",
        "  print(\" Positive \")\n",
        "if a<0:\n",
        "  print(\" Negative \")\n",
        "if a==0:\n",
        "  print(\" Zero \") "
      ],
      "execution_count": 7,
      "outputs": [
        {
          "output_type": "stream",
          "text": [
            " Enter  the number 33\n",
            " Positive \n"
          ],
          "name": "stdout"
        }
      ]
    },
    {
      "cell_type": "code",
      "metadata": {
        "id": "k4JkGpRQsPLo",
        "colab_type": "code",
        "colab": {}
      },
      "source": [
        ""
      ],
      "execution_count": null,
      "outputs": []
    },
    {
      "cell_type": "code",
      "metadata": {
        "id": "a5dkxRuxni2d",
        "colab_type": "code",
        "colab": {
          "base_uri": "https://localhost:8080/",
          "height": 84
        },
        "outputId": "b1a6af57-6130-484b-8c94-48afca2edb81"
      },
      "source": [
        "a = float(input(\" Enter the first number \"))\n",
        "b = float(input(\" Enter the second number \"))\n",
        "c = float(input(\" Enter the third number \"))\n",
        "if(a>b) and (a>c):\n",
        "  print(\" Largest number is \",a)\n",
        "elif(b>a) and (b>c):\n",
        "  print( \" Largest number is \",b)\n",
        "else:\n",
        "  print(\" Largest number is \",c)\n"
      ],
      "execution_count": 8,
      "outputs": [
        {
          "output_type": "stream",
          "text": [
            " Enter the first number 9\n",
            " Enter the second number 10\n",
            " Enter the third number 15\n",
            " Largest number is  15.0\n"
          ],
          "name": "stdout"
        }
      ]
    }
  ]
}