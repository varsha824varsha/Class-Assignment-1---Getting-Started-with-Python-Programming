{
  "nbformat": 4,
  "nbformat_minor": 0,
  "metadata": {
    "colab": {
      "name": "Untitled1.ipynb",
      "provenance": [],
      "authorship_tag": "ABX9TyPt15dKDZpq1FRDpMrLYoUc",
      "include_colab_link": true
    },
    "kernelspec": {
      "name": "python3",
      "display_name": "Python 3"
    }
  },
  "cells": [
    {
      "cell_type": "markdown",
      "metadata": {
        "id": "view-in-github",
        "colab_type": "text"
      },
      "source": [
        "<a href=\"https://colab.research.google.com/github/varsha824varsha/Class-Assignment-1---Getting-Started-with-Python-Programming/blob/master/Untitled1.ipynb\" target=\"_parent\"><img src=\"https://colab.research.google.com/assets/colab-badge.svg\" alt=\"Open In Colab\"/></a>"
      ]
    },
    {
      "cell_type": "code",
      "metadata": {
        "id": "LPEZd27beQns",
        "colab_type": "code",
        "colab": {}
      },
      "source": [
        " import time\n",
        "\n",
        " def search(list,n):\n",
        "\n",
        "  for i in range (len(list)):\n",
        "    if str(list[i]) == str(n):\n",
        "      return true\n",
        "      return false\n",
        "      #list which contains both string and numbers,\n",
        "      list = [1,2,'name',5,9, 'python']\n",
        "      n=input(\"enter your stringornumber to search:\")\n",
        "      if search(list,n):\n",
        "        print(\"found\")\n",
        "        time.sleep(10)\n",
        "      else:\n",
        "          print(\"not found\")\n",
        "          time.sleep(10)\n"
      ],
      "execution_count": 7,
      "outputs": []
    }
  ]
}