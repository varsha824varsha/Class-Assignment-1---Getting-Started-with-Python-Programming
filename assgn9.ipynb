{
  "nbformat": 4,
  "nbformat_minor": 0,
  "metadata": {
    "colab": {
      "name": "assgn9.ipynb",
      "provenance": [],
      "authorship_tag": "ABX9TyM5cILm0RsMe+6k+VlFNzFa",
      "include_colab_link": true
    },
    "kernelspec": {
      "name": "python3",
      "display_name": "Python 3"
    }
  },
  "cells": [
    {
      "cell_type": "markdown",
      "metadata": {
        "id": "view-in-github",
        "colab_type": "text"
      },
      "source": [
        "<a href=\"https://colab.research.google.com/github/varsha824varsha/Class-Assignment-1---Getting-Started-with-Python-Programming/blob/master/assgn9.ipynb\" target=\"_parent\"><img src=\"https://colab.research.google.com/assets/colab-badge.svg\" alt=\"Open In Colab\"/></a>"
      ]
    },
    {
      "cell_type": "code",
      "metadata": {
        "colab": {
          "base_uri": "https://localhost:8080/"
        },
        "id": "vmNbgz70_hi6",
        "outputId": "aeece893-f5c7-4311-e044-af489a3e9f64"
      },
      "source": [
        "def is_Sublist(l, s):\r\n",
        "\tsub_set = False\r\n",
        "\tif s == []:\r\n",
        "\t\tsub_set = True\r\n",
        "\telif s == l:\r\n",
        "\t\tsub_set = True\r\n",
        "\telif len(s) > len(l):\r\n",
        "\t\tsub_set = False\r\n",
        "\r\n",
        "\telse:\r\n",
        "\t\tfor i in range(len(l)):\r\n",
        "\t\t\tif l[i] == s[0]:\r\n",
        "\t\t\t\tn = 1\r\n",
        "\t\t\t\twhile (n < len(s)) and (l[i+n] == s[n]):\r\n",
        "\t\t\t\t\tn += 1\r\n",
        "\t\t\t\t\r\n",
        "\t\t\t\tif n == len(s):\r\n",
        "\t\t\t\t\tsub_set = True\r\n",
        "\r\n",
        "\treturn sub_set\r\n",
        "\r\n",
        "a = [2,4,3,5,7]\r\n",
        "b = [4,3]\r\n",
        "c = [3,7]\r\n",
        "print(is_Sublist(a, b))\r\n",
        "print(is_Sublist(a, c))"
      ],
      "execution_count": 3,
      "outputs": [
        {
          "output_type": "stream",
          "text": [
            "True\n",
            "False\n"
          ],
          "name": "stdout"
        }
      ]
    },
    {
      "cell_type": "code",
      "metadata": {
        "colab": {
          "base_uri": "https://localhost:8080/"
        },
        "id": "iQYcgRkCATk6",
        "outputId": "23d7b137-a404-45de-8c47-5ff8c01d9017"
      },
      "source": [
        "arr = [1, 2, 8, 3, 2, 2, 2, 5, 1];     \r\n",
        "    \r\n",
        "fr = [None] * len(arr);    \r\n",
        "visited = -1;    \r\n",
        "     \r\n",
        "for i in range(0, len(arr)):    \r\n",
        "    count = 1;    \r\n",
        "    for j in range(i+1, len(arr)):    \r\n",
        "        if(arr[i] == arr[j]):    \r\n",
        "            count = count + 1;    \r\n",
        "         \r\n",
        "            fr[j] = visited;    \r\n",
        "                \r\n",
        "    if(fr[i] != visited):    \r\n",
        "        fr[i] = count;    \r\n",
        "     \r\n",
        " \r\n",
        "print(\"---------------------\");    \r\n",
        "print(\" Element | Frequency\");    \r\n",
        "print(\"---------------------\");    \r\n",
        "for i in range(0, len(fr)):    \r\n",
        "    if(fr[i] != visited):    \r\n",
        "        print(\"    \" + str(arr[i]) + \"    |    \" + str(fr[i]));    \r\n",
        "print(\"---------------------\");    "
      ],
      "execution_count": 4,
      "outputs": [
        {
          "output_type": "stream",
          "text": [
            "---------------------\n",
            " Element | Frequency\n",
            "---------------------\n",
            "    1    |    2\n",
            "    2    |    4\n",
            "    8    |    1\n",
            "    3    |    1\n",
            "    5    |    1\n",
            "---------------------\n"
          ],
          "name": "stdout"
        }
      ]
    },
    {
      "cell_type": "code",
      "metadata": {
        "id": "h8Sqg96cA2p-"
      },
      "source": [
        ""
      ],
      "execution_count": null,
      "outputs": []
    }
  ]
}