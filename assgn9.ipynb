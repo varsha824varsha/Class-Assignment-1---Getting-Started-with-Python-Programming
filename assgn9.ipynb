{
  "nbformat": 4,
  "nbformat_minor": 0,
  "metadata": {
    "colab": {
      "name": "assgn9.ipynb",
      "provenance": [],
      "authorship_tag": "ABX9TyO7seZWP9HiCJfuPEEV+aMV",
      "include_colab_link": true
    },
    "kernelspec": {
      "name": "python3",
      "display_name": "Python 3"
    }
  },
  "cells": [
    {
      "cell_type": "markdown",
      "metadata": {
        "id": "view-in-github",
        "colab_type": "text"
      },
      "source": [
        "<a href=\"https://colab.research.google.com/github/varsha824varsha/Class-Assignment-1---Getting-Started-with-Python-Programming/blob/master/assgn9.ipynb\" target=\"_parent\"><img src=\"https://colab.research.google.com/assets/colab-badge.svg\" alt=\"Open In Colab\"/></a>"
      ]
    },
    {
      "cell_type": "code",
      "metadata": {
        "colab": {
          "base_uri": "https://localhost:8080/"
        },
        "id": "vmNbgz70_hi6",
        "outputId": "aeece893-f5c7-4311-e044-af489a3e9f64"
      },
      "source": [
        "def is_Sublist(l, s):\r\n",
        "\tsub_set = False\r\n",
        "\tif s == []:\r\n",
        "\t\tsub_set = True\r\n",
        "\telif s == l:\r\n",
        "\t\tsub_set = True\r\n",
        "\telif len(s) > len(l):\r\n",
        "\t\tsub_set = False\r\n",
        "\r\n",
        "\telse:\r\n",
        "\t\tfor i in range(len(l)):\r\n",
        "\t\t\tif l[i] == s[0]:\r\n",
        "\t\t\t\tn = 1\r\n",
        "\t\t\t\twhile (n < len(s)) and (l[i+n] == s[n]):\r\n",
        "\t\t\t\t\tn += 1\r\n",
        "\t\t\t\t\r\n",
        "\t\t\t\tif n == len(s):\r\n",
        "\t\t\t\t\tsub_set = True\r\n",
        "\r\n",
        "\treturn sub_set\r\n",
        "\r\n",
        "a = [2,4,3,5,7]\r\n",
        "b = [4,3]\r\n",
        "c = [3,7]\r\n",
        "print(is_Sublist(a, b))\r\n",
        "print(is_Sublist(a, c))"
      ],
      "execution_count": 3,
      "outputs": [
        {
          "output_type": "stream",
          "text": [
            "True\n",
            "False\n"
          ],
          "name": "stdout"
        }
      ]
    },
    {
      "cell_type": "code",
      "metadata": {
        "colab": {
          "base_uri": "https://localhost:8080/"
        },
        "id": "iQYcgRkCATk6",
        "outputId": "23d7b137-a404-45de-8c47-5ff8c01d9017"
      },
      "source": [
        "arr = [1, 2, 8, 3, 2, 2, 2, 5, 1];     \r\n",
        "    \r\n",
        "fr = [None] * len(arr);    \r\n",
        "visited = -1;    \r\n",
        "     \r\n",
        "for i in range(0, len(arr)):    \r\n",
        "    count = 1;    \r\n",
        "    for j in range(i+1, len(arr)):    \r\n",
        "        if(arr[i] == arr[j]):    \r\n",
        "            count = count + 1;    \r\n",
        "         \r\n",
        "            fr[j] = visited;    \r\n",
        "                \r\n",
        "    if(fr[i] != visited):    \r\n",
        "        fr[i] = count;    \r\n",
        "     \r\n",
        " \r\n",
        "print(\"---------------------\");    \r\n",
        "print(\" Element | Frequency\");    \r\n",
        "print(\"---------------------\");    \r\n",
        "for i in range(0, len(fr)):    \r\n",
        "    if(fr[i] != visited):    \r\n",
        "        print(\"    \" + str(arr[i]) + \"    |    \" + str(fr[i]));    \r\n",
        "print(\"---------------------\");    "
      ],
      "execution_count": 4,
      "outputs": [
        {
          "output_type": "stream",
          "text": [
            "---------------------\n",
            " Element | Frequency\n",
            "---------------------\n",
            "    1    |    2\n",
            "    2    |    4\n",
            "    8    |    1\n",
            "    3    |    1\n",
            "    5    |    1\n",
            "---------------------\n"
          ],
          "name": "stdout"
        }
      ]
    },
    {
      "cell_type": "code",
      "metadata": {
        "colab": {
          "base_uri": "https://localhost:8080/"
        },
        "id": "zvQ3uvjSBJN0",
        "outputId": "492c6179-9ca3-4452-8b2c-f0d1723da53c"
      },
      "source": [
        "list1 = [10, 20, 4, 45, 99]\r\n",
        " \r\n",
        "mx=max(list1[0],list1[1]) \r\n",
        "secondmax=min(list1[0],list1[1]) \r\n",
        "n =len(list1)\r\n",
        "for i in range(2,n): \r\n",
        "    if list1[i]>mx: \r\n",
        "        secondmax=mx\r\n",
        "        mx=list1[i] \r\n",
        "    elif list1[i]>secondmax and \\\r\n",
        "        mx != list1[i]: \r\n",
        "        secondmax=list1[i]\r\n",
        " \r\n",
        "print(\"Second highest number is : \",\\\r\n",
        "      str(secondmax))"
      ],
      "execution_count": 5,
      "outputs": [
        {
          "output_type": "stream",
          "text": [
            "Second highest number is :  45\n"
          ],
          "name": "stdout"
        }
      ]
    },
    {
      "cell_type": "code",
      "metadata": {
        "colab": {
          "base_uri": "https://localhost:8080/"
        },
        "id": "XMTmPYQJBf2m",
        "outputId": "35d1328e-dd8a-4dc2-d293-95180474e088"
      },
      "source": [
        "def count_range_in_list(li, min, max):\r\n",
        "\tctr = 0\r\n",
        "\tfor x in li:\r\n",
        "\t\tif min <= x <= max:\r\n",
        "\t\t\tctr += 1\r\n",
        "\treturn ctr\r\n",
        "\r\n",
        "list1 = [10,20,30,40,40,40,70,80,99]\r\n",
        "print(count_range_in_list(list1, 40, 100))\r\n",
        "\r\n",
        "list2 = ['a','b','c','d','e','f']\r\n",
        "print(count_range_in_list(list2, 'a', 'e'))"
      ],
      "execution_count": 6,
      "outputs": [
        {
          "output_type": "stream",
          "text": [
            "6\n",
            "5\n"
          ],
          "name": "stdout"
        }
      ]
    },
    {
      "cell_type": "code",
      "metadata": {
        "colab": {
          "base_uri": "https://localhost:8080/"
        },
        "id": "Uuf7OO7VBmbM",
        "outputId": "feaeeae6-b3b6-435a-d1cf-2a1b0ac19732"
      },
      "source": [
        "def find_len(list1): \r\n",
        "    length = len(list1) \r\n",
        "    list1.sort() \r\n",
        "    print(\"Largest element is:\", list1[length-1]) \r\n",
        "    print(\"Smallest element is:\", list1[0]) \r\n",
        "    print(\"Second Largest element is:\", list1[length-2]) \r\n",
        "    print(\"Second Smallest element is:\", list1[1]) \r\n",
        "  \r\n",
        "\r\n",
        "list1=[12, 45, 2, 41, 31, 10, 8, 6, 4] \r\n",
        "Largest = find_len(list1) "
      ],
      "execution_count": 7,
      "outputs": [
        {
          "output_type": "stream",
          "text": [
            "Largest element is: 45\n",
            "Smallest element is: 2\n",
            "Second Largest element is: 41\n",
            "Second Smallest element is: 4\n"
          ],
          "name": "stdout"
        }
      ]
    },
    {
      "cell_type": "code",
      "metadata": {
        "id": "h8Sqg96cA2p-"
      },
      "source": [
        ""
      ],
      "execution_count": null,
      "outputs": []
    }
  ]
}